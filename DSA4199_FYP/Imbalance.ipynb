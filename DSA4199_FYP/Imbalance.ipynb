{
 "cells": [
  {
   "cell_type": "markdown",
   "id": "927beb25",
   "metadata": {},
   "source": [
    "# Imbalance ratio functions for binary and multi-class datasets:\n",
    "    - Methods to quantify class imbalanceness in datasets\n",
    "    - Performance Analysis\n",
    "    - How to combat imbalance datasets\n",
    "\n",
    "Testing with synthetic binary and multi-class datasets.\n"
   ]
  },
  {
   "cell_type": "code",
   "execution_count": 1,
   "id": "1cd19357",
   "metadata": {},
   "outputs": [],
   "source": [
    "import numpy as np\n",
    "import pandas as pd\n",
    "from sklearn.model_selection import train_test_split, cross_val_score\n",
    "from sklearn.ensemble import RandomForestClassifier\n",
    "from sklearn.metrics import matthews_corrcoef, make_scorer, confusion_matrix, ConfusionMatrixDisplay, classification_report\n",
    "from sklearn.datasets import make_classification\n",
    "import matplotlib.pyplot as plt\n",
    "from imblearn.over_sampling import SMOTE\n",
    "from imblearn.under_sampling import TomekLinks, EditedNearestNeighbours\n",
    "from imblearn.pipeline import Pipeline"
   ]
  },
  {
   "cell_type": "markdown",
   "id": "ccc0c699",
   "metadata": {},
   "source": [
    "## Quantifying Class Imbalance in Datasets\n",
    "#### Method 1: Imbalance Ratio based on class proportions (binary)\n",
    "To quantify the imbalanceness of a binary dataset, a simple approach is to compute the imbalance ratio (IR), which is the ratio of the number of instances in the majority class to the number in the minority class.\\\n",
    "\\\n",
    "IR = count(Majority)/count(Minority) ~ Majority : Minority\n",
    "- Identify majority and minority classes\n",
    "- Compute the imbalance ratio"
   ]
  },
  {
   "cell_type": "code",
   "execution_count": 2,
   "id": "298785df",
   "metadata": {},
   "outputs": [],
   "source": [
    "def calculate_imbalance_ratio(df, label_column):\n",
    "    # Count the instances of each class\n",
    "    class_counts = df[label_column].value_counts()\n",
    "    \n",
    "    # Identify the majority and minority classes\n",
    "    majority_class = class_counts.idxmax()\n",
    "    minority_class = class_counts.idxmin()\n",
    "    \n",
    "    # Calculate the imbalance ratio\n",
    "    imbalance_ratio = class_counts[majority_class] / class_counts[minority_class]\n",
    "    \n",
    "    print(f\"Class counts:\\n{class_counts}\")\n",
    "    print(f\"Majority class: {majority_class}, Minority class: {minority_class}\")\n",
    "    print(f\"Imbalance Ratio (IR): {imbalance_ratio:.2f}\")\n",
    "    \n",
    "    return imbalance_ratio"
   ]
  },
  {
   "cell_type": "markdown",
   "id": "ec7105c0",
   "metadata": {},
   "source": [
    "#### Method 2: Imbalance Ratio based on class proportions (multi-class)\n",
    "For multi-class datasets, the imbalance ratio calculation extends by considering the ratio of the largest class to each of the other classes. One way to summarize imbalance in a multi-class setting is to calculate the average imbalance ratio across all classes.\\\n",
    "\\\n",
    "IR = count(Majority)/count(Class) ~ Majority : Class\n",
    "- Identify majority class\n",
    "- Calculate imbalance ratio for each class relative to the majority class\n",
    "- Calculate average imbalance ratio"
   ]
  },
  {
   "cell_type": "code",
   "execution_count": 3,
   "id": "966c9a0e",
   "metadata": {},
   "outputs": [],
   "source": [
    "def calculate_multi_class_imbalance_ratio(df, label_column):\n",
    "    # Count instances for each class\n",
    "    class_counts = df[label_column].value_counts()\n",
    "    total_classes = len(class_counts)\n",
    "    \n",
    "    # Find the largest (majority) class count\n",
    "    majority_class_count = class_counts.max()\n",
    "    \n",
    "    # Calculate imbalance ratio for each class against the majority class\n",
    "    imbalance_ratios = majority_class_count / class_counts\n",
    "    average_imbalance_ratio = imbalance_ratios.mean()\n",
    "    \n",
    "    print(\"Class counts:\")\n",
    "    print(class_counts)\n",
    "    print(\"\\nImbalance Ratios:\")\n",
    "    print(imbalance_ratios.round(2))\n",
    "    print(f\"\\nAverage Imbalance Ratio: {average_imbalance_ratio:.2f}\")\n",
    "    \n",
    "    return average_imbalance_ratio, imbalance_ratios"
   ]
  },
  {
   "cell_type": "markdown",
   "id": "68685041",
   "metadata": {},
   "source": [
    "#### Method 3: Imbalance Ratio with Shannon Entropy and Cohen's Kappa statistic (multi-class)\n",
    "\n",
    "For multi-class datasets, the imbalance ratio calculation extends by considering the ratio of the largest class to each of the other classes. One way to summarize imbalance in a multi-class setting is to calculate the average imbalance ratio across all classes.\n",
    "\n",
    "1. <ins>Average Imbalance Ratio (IR) Across All Classes</ins>\n",
    "- Provides a single value representing the degree of imbalance across classes.\n",
    "\n",
    "2. <ins>Shannon Entropy for Class Distribution</ins>\n",
    "- Shannon entropy measures the diversity of class distribution i.e. a balanced dataset has maximum entropy and an imbalanced one has lower entropy. Lower entropy values indicate greater imbalance.\n",
    "- High Entropy (close to 1 in normalized form): Indicates a balanced dataset where all classes are nearly equally represented. The more balanced the distribution, the higher the entropy.\n",
    "- Low Entropy (closer to 0): Indicates imbalance, where one or more classes dominate, and there is less diversity in the class distribution\n",
    "\n",
    "3. <ins>Cohen's Kappa Statistic</ins>\n",
    "- Cohen's Kappa assesses the quality of a classifier by comparing the actual classifications with expected classifications under random guessing. For imbalanced datasets, Kappa provides insight into how well a model performs relative to the expected accuracy if predictions were made by simply guessing according to class frequencies.\n",
    "- Kappa close to 1: Indicates strong agreement beyond chance; in classification, it means the model’s predictions are far better than random guessing.\n",
    "- Kappa near 0: Suggests performance is near what would be expected by random chance. This is often seen in highly imbalanced datasets where a naive majority-class prediction strategy doesn’t provide meaningful results.\n",
    "- Negative Kappa: Implies performance is worse than random guessing, suggesting systematic misclassification.\n",
    "- Require majority class's prediction values to assess.*\n"
   ]
  },
  {
   "cell_type": "code",
   "execution_count": 4,
   "id": "c5a2d86c",
   "metadata": {},
   "outputs": [],
   "source": [
    "import numpy as np\n",
    "import pandas as pd\n",
    "from scipy.stats import entropy\n",
    "from sklearn.metrics import cohen_kappa_score\n",
    "\n",
    "# y: array of class labels\n",
    "# y_majority_pred: majority class prediction values (optional)\n",
    "\n",
    "def measure_class_imbalance(y, y_majority_pred=None):\n",
    "    class_counts = np.bincount(y)\n",
    "    n_samples = len(y)\n",
    "    n_classes = len(class_counts)\n",
    "    \n",
    "    # Imbalance Ratio (IR) across all classes\n",
    "    majority_class_count = class_counts.max()\n",
    "    imbalance_ratios = majority_class_count / class_counts\n",
    "    avg_imbalance_ratio = np.mean(imbalance_ratios)\n",
    "    print(f\"Average Imbalance Ratio (IR): {avg_imbalance_ratio:.2f}\")\n",
    "    \n",
    "    # Shannon Entropy\n",
    "    class_probabilities = class_counts / n_samples\n",
    "    shannon_entropy = -np.sum(class_probabilities * np.log2(class_probabilities + 1e-9))  # Avoid log(0)\n",
    "    normalized_entropy = shannon_entropy / np.log2(n_classes)\n",
    "    print(f\"Normalized Shannon Entropy: {normalized_entropy:.2f}\")\n",
    "    \n",
    "    # 3. Cohen's Kappa\n",
    "    if y_majority_pred is not None:\n",
    "        kappa = cohen_kappa_score(y, y_majority_pred)\n",
    "        print(f\"Cohen's Kappa (majority class baseline): {kappa:.2f}\")\n",
    "    else:\n",
    "        print(\"y_majority_pred is not provided; skipping Cohen's Kappa calculation.\")\n",
    "    \n",
    "    return avg_imbalance_ratio, normalized_entropy, kappa if y_majority_pred is not None else None"
   ]
  },
  {
   "cell_type": "markdown",
   "id": "6d68ca94",
   "metadata": {},
   "source": [
    "### Trial 1: Testing against balanced datasets"
   ]
  },
  {
   "cell_type": "markdown",
   "id": "0d497ac2",
   "metadata": {},
   "source": [
    "Generating synthetic binary dataset."
   ]
  },
  {
   "cell_type": "code",
   "execution_count": 5,
   "id": "43f35c9b",
   "metadata": {},
   "outputs": [],
   "source": [
    "# Binary dataset\n",
    "X_bin, y_bin = make_classification(n_samples=1000, n_features=10, n_classes=2, random_state=42)\n",
    "X_train_bin, X_test_bin, y_train_bin, y_test_bin = train_test_split(X_bin, y_bin, test_size=0.2, random_state=42)\n",
    "\n",
    "model_bin = RandomForestClassifier(random_state=42)\n",
    "model_bin.fit(X_train_bin, y_train_bin)\n",
    "y_pred_bin = model_bin.predict(X_test_bin)"
   ]
  },
  {
   "cell_type": "code",
   "execution_count": 6,
   "id": "d3274f3a",
   "metadata": {},
   "outputs": [
    {
     "data": {
      "text/html": [
       "<div>\n",
       "<style scoped>\n",
       "    .dataframe tbody tr th:only-of-type {\n",
       "        vertical-align: middle;\n",
       "    }\n",
       "\n",
       "    .dataframe tbody tr th {\n",
       "        vertical-align: top;\n",
       "    }\n",
       "\n",
       "    .dataframe thead th {\n",
       "        text-align: right;\n",
       "    }\n",
       "</style>\n",
       "<table border=\"1\" class=\"dataframe\">\n",
       "  <thead>\n",
       "    <tr style=\"text-align: right;\">\n",
       "      <th></th>\n",
       "      <th>Class</th>\n",
       "      <th>Count</th>\n",
       "    </tr>\n",
       "  </thead>\n",
       "  <tbody>\n",
       "    <tr>\n",
       "      <th>0</th>\n",
       "      <td>0</td>\n",
       "      <td>501</td>\n",
       "    </tr>\n",
       "    <tr>\n",
       "      <th>1</th>\n",
       "      <td>1</td>\n",
       "      <td>499</td>\n",
       "    </tr>\n",
       "  </tbody>\n",
       "</table>\n",
       "</div>"
      ],
      "text/plain": [
       "   Class  Count\n",
       "0      0    501\n",
       "1      1    499"
      ]
     },
     "metadata": {},
     "output_type": "display_data"
    }
   ],
   "source": [
    "classes, counts = np.unique(y_bin, return_counts=True)\n",
    "df_bi = pd.DataFrame({'Class': classes, 'Count': counts})\n",
    "display(df_bi)"
   ]
  },
  {
   "cell_type": "markdown",
   "id": "b130538a",
   "metadata": {},
   "source": [
    "Generating synthetic multi-class dataset."
   ]
  },
  {
   "cell_type": "code",
   "execution_count": 7,
   "id": "9035c92b",
   "metadata": {},
   "outputs": [],
   "source": [
    "# Multi-class dataset\n",
    "X_multi, y_multi = make_classification(n_samples=1000, n_features=10, n_classes=3, n_informative=8, random_state=42)\n",
    "X_train_multi, X_test_multi, y_train_multi, y_test_multi = train_test_split(X_multi, y_multi, test_size=0.2, random_state=42)\n",
    "\n",
    "model_multi = RandomForestClassifier(random_state=42)\n",
    "model_multi.fit(X_train_multi, y_train_multi)\n",
    "y_pred_multi = model_bin.predict(X_test_multi)"
   ]
  },
  {
   "cell_type": "code",
   "execution_count": 8,
   "id": "0e9141a9",
   "metadata": {
    "scrolled": true
   },
   "outputs": [
    {
     "data": {
      "text/html": [
       "<div>\n",
       "<style scoped>\n",
       "    .dataframe tbody tr th:only-of-type {\n",
       "        vertical-align: middle;\n",
       "    }\n",
       "\n",
       "    .dataframe tbody tr th {\n",
       "        vertical-align: top;\n",
       "    }\n",
       "\n",
       "    .dataframe thead th {\n",
       "        text-align: right;\n",
       "    }\n",
       "</style>\n",
       "<table border=\"1\" class=\"dataframe\">\n",
       "  <thead>\n",
       "    <tr style=\"text-align: right;\">\n",
       "      <th></th>\n",
       "      <th>Class</th>\n",
       "      <th>Count</th>\n",
       "    </tr>\n",
       "  </thead>\n",
       "  <tbody>\n",
       "    <tr>\n",
       "      <th>0</th>\n",
       "      <td>0</td>\n",
       "      <td>334</td>\n",
       "    </tr>\n",
       "    <tr>\n",
       "      <th>1</th>\n",
       "      <td>1</td>\n",
       "      <td>333</td>\n",
       "    </tr>\n",
       "    <tr>\n",
       "      <th>2</th>\n",
       "      <td>2</td>\n",
       "      <td>333</td>\n",
       "    </tr>\n",
       "  </tbody>\n",
       "</table>\n",
       "</div>"
      ],
      "text/plain": [
       "   Class  Count\n",
       "0      0    334\n",
       "1      1    333\n",
       "2      2    333"
      ]
     },
     "metadata": {},
     "output_type": "display_data"
    }
   ],
   "source": [
    "classes, counts = np.unique(y_multi, return_counts=True)\n",
    "df_multi = pd.DataFrame({'Class': classes, 'Count': counts})\n",
    "display(df_multi)"
   ]
  },
  {
   "cell_type": "markdown",
   "id": "2c0cfca1",
   "metadata": {},
   "source": [
    "#### Performance Analysis\n",
    "- Let us explore the synthetic data's confusion matrix. This hows the distribution of classes in both binary and multi-class datasets."
   ]
  },
  {
   "cell_type": "markdown",
   "id": "2ebd4ee4",
   "metadata": {},
   "source": [
    "Confusion matrix of binary dataset:"
   ]
  },
  {
   "cell_type": "code",
   "execution_count": 9,
   "id": "435c909c",
   "metadata": {},
   "outputs": [
    {
     "name": "stdout",
     "output_type": "stream",
     "text": [
      "True Positive:\t 96\n",
      "False Positive:\t 9\n",
      "True Negative:\t 80\n",
      "False Negative:\t 15\n"
     ]
    },
    {
     "data": {
      "image/png": "[encoded data removed]",
      "text/plain": [
       "<Figure size 432x288 with 2 Axes>"
      ]
     },
     "metadata": {
      "needs_background": "light"
     },
     "output_type": "display_data"
    }
   ],
   "source": [
    "# Generate the confusion matrix\n",
    "cm_bi = confusion_matrix(y_test_bin, y_pred_bin)\n",
    "disp = ConfusionMatrixDisplay(confusion_matrix=cm_bi, display_labels=model_bin.classes_)\n",
    "print(\"True Positive:\\t\", cm_bi[1][1])\n",
    "print(\"False Positive:\\t\", cm_bi[0][1])\n",
    "print(\"True Negative:\\t\", cm_bi[0][0])\n",
    "print(\"False Negative:\\t\", cm_bi[1][0])\n",
    "disp.plot(cmap=plt.cm.Blues)\n",
    "plt.title(\"Confusion Matrix\")\n",
    "plt.show()"
   ]
  },
  {
   "cell_type": "markdown",
   "id": "a41be00c",
   "metadata": {},
   "source": [
    "Confusion matrix of multi-class dataset:"
   ]
  },
  {
   "cell_type": "code",
   "execution_count": 10,
   "id": "5bd1ffee",
   "metadata": {},
   "outputs": [
    {
     "data": {
      "image/png": "[encoded data removed]",
      "text/plain": [
       "<Figure size 432x288 with 2 Axes>"
      ]
     },
     "metadata": {
      "needs_background": "light"
     },
     "output_type": "display_data"
    }
   ],
   "source": [
    "# Generate the confusion matrix\n",
    "cm_multi = confusion_matrix(y_test_multi, y_pred_multi)\n",
    "disp = ConfusionMatrixDisplay(confusion_matrix=cm_multi, display_labels=model_multi.classes_)\n",
    "disp.plot(cmap=plt.cm.Blues)\n",
    "plt.title(\"Confusion Matrix\")\n",
    "plt.show()"
   ]
  },
  {
   "cell_type": "code",
   "execution_count": 11,
   "id": "e01bbf36",
   "metadata": {},
   "outputs": [
    {
     "name": "stdout",
     "output_type": "stream",
     "text": [
      "Method 1: Imbalance Ratio\n",
      "\n",
      "Class counts:\n",
      "0    501\n",
      "1    499\n",
      "Name: label, dtype: int64\n",
      "Majority class: 0, Minority class: 1\n",
      "Imbalance Ratio (IR): 1.00\n",
      "------------------------------\n",
      "Method 3: Class Imbalance Metrics\n",
      "\n",
      "Average Imbalance Ratio (IR): 1.00\n",
      "Normalized Shannon Entropy: 1.00\n",
      "Cohen's Kappa (majority class baseline): 0.00\n"
     ]
    }
   ],
   "source": [
    "df_bi = pd.DataFrame({'label': y_bin})\n",
    "print('Method 1: Imbalance Ratio\\n')\n",
    "imbalance_ratio = calculate_imbalance_ratio(df_bi, 'label')\n",
    "print('-'*30)\n",
    "print('Method 3: Class Imbalance Metrics\\n')\n",
    "y_majority_pred = np.full_like(y_bin, fill_value=np.argmax(np.bincount(y_bin)))\n",
    "avg_imbalance_ratio, normalized_entropy, kappa = measure_class_imbalance(y_bin, y_majority_pred)"
   ]
  },
  {
   "cell_type": "markdown",
   "id": "3a25b404",
   "metadata": {},
   "source": [
    "<ins>Results</ins>\n",
    "\n",
    "1. Imbalance Ratio (IR): 1.00, indicating equal representation of both classes.\n",
    "2. Normalized Shannon Entropy: 1.00, confirming maximum class diversity.\n",
    "3. Cohen’s Kappa: 0.00, meaning a majority-class-only prediction offers no advantage over random guessing due to the balanced distribution.\n",
    "\n",
    "In summary, there’s no class imbalance, so additional balancing techniques are unnecessary"
   ]
  },
  {
   "cell_type": "code",
   "execution_count": 12,
   "id": "95e06a4a",
   "metadata": {},
   "outputs": [
    {
     "name": "stdout",
     "output_type": "stream",
     "text": [
      "Method 2: Imbalance Ratio\n",
      "\n",
      "Class counts:\n",
      "0    334\n",
      "2    333\n",
      "1    333\n",
      "Name: label, dtype: int64\n",
      "\n",
      "Imbalance Ratios:\n",
      "0    1.0\n",
      "2    1.0\n",
      "1    1.0\n",
      "Name: label, dtype: float64\n",
      "\n",
      "Average Imbalance Ratio: 1.00\n",
      "------------------------------\n",
      "Method 3: Class Imbalance Metrics\n",
      "\n",
      "Average Imbalance Ratio (IR): 1.00\n",
      "Normalized Shannon Entropy: 1.00\n",
      "Cohen's Kappa (majority class baseline): 0.00\n"
     ]
    },
    {
     "data": {
      "text/plain": [
       "(1.002002002002002, 0.9999990873330142, 0.0)"
      ]
     },
     "execution_count": 12,
     "metadata": {},
     "output_type": "execute_result"
    }
   ],
   "source": [
    "df_multi = pd.DataFrame({'label': y_multi})\n",
    "print('Method 2: Imbalance Ratio\\n')\n",
    "calculate_multi_class_imbalance_ratio(df_multi, 'label')\n",
    "print('-'*30)\n",
    "print('Method 3: Class Imbalance Metrics\\n')\n",
    "majority_class = pd.Series(y_multi).mode()[0]\n",
    "y_majority_pred = np.full_like(y_multi, fill_value=majority_class)\n",
    "measure_class_imbalance(y_multi, y_majority_pred)"
   ]
  },
  {
   "cell_type": "markdown",
   "id": "d430e3a2",
   "metadata": {},
   "source": [
    "<ins>Results</ins>\n",
    "\n",
    "1. Imbalance Ratio (IR): The class counts are nearly equal, with 334 instances of class 0 and 333 for classes 1 and 2. The imbalance ratio for each class is 1.0, indicating no class imbalance in the dataset.\n",
    "2. Average Imbalance Ratio: 1.00, confirming no imbalance.\n",
    "2. Normalized Shannon Entropy: 1.00, confirming maximum class diversity due to the balanced distribution.\n",
    "3. Cohen’s Kappa: 0.00, suggesting that predicting the majority class does not outperform random guessing, as the classes are equally represented.\n",
    "\n",
    "The dataset is balanced with equal class distributions, as confirmed by the imbalance ratio, entropy, and Kappa score. No class imbalance is present, making the dataset well-suited for standard machine learning models."
   ]
  },
  {
   "cell_type": "markdown",
   "id": "dda85e70",
   "metadata": {},
   "source": [
    "### Trial 2: Testing against imbalanced datasets\n",
    "Generating synthetic binary dataset. \\\n",
    "Setting weights = [0.25, 0.75]: To create an imbalanced dataset where 25% of the samples belong to class 0, and 75% belong to class 1."
   ]
  },
  {
   "cell_type": "code",
   "execution_count": 13,
   "id": "0cb806d4",
   "metadata": {},
   "outputs": [],
   "source": [
    "# Imbalanced binary dataset\n",
    "Xi_bin, yi_bin = make_classification(\n",
    "    n_samples=1000,\n",
    "    n_features=10,\n",
    "    n_classes=2,\n",
    "    weights=[0.25, 0.75],\n",
    "    random_state=42)\n",
    "Xi_train_bin, Xi_test_bin, yi_train_bin, yi_test_bin = train_test_split(Xi_bin, yi_bin, test_size=0.2, random_state=42)\n",
    "\n",
    "model_bin = RandomForestClassifier(random_state=42)\n",
    "model_bin.fit(Xi_train_bin, yi_train_bin)\n",
    "yi_pred_bin = model_bin.predict(Xi_test_bin)"
   ]
  },
  {
   "cell_type": "code",
   "execution_count": 14,
   "id": "52c4a29d",
   "metadata": {},
   "outputs": [
    {
     "data": {
      "text/html": [
       "<div>\n",
       "<style scoped>\n",
       "    .dataframe tbody tr th:only-of-type {\n",
       "        vertical-align: middle;\n",
       "    }\n",
       "\n",
       "    .dataframe tbody tr th {\n",
       "        vertical-align: top;\n",
       "    }\n",
       "\n",
       "    .dataframe thead th {\n",
       "        text-align: right;\n",
       "    }\n",
       "</style>\n",
       "<table border=\"1\" class=\"dataframe\">\n",
       "  <thead>\n",
       "    <tr style=\"text-align: right;\">\n",
       "      <th></th>\n",
       "      <th>Class</th>\n",
       "      <th>Count</th>\n",
       "    </tr>\n",
       "  </thead>\n",
       "  <tbody>\n",
       "    <tr>\n",
       "      <th>0</th>\n",
       "      <td>0</td>\n",
       "      <td>254</td>\n",
       "    </tr>\n",
       "    <tr>\n",
       "      <th>1</th>\n",
       "      <td>1</td>\n",
       "      <td>746</td>\n",
       "    </tr>\n",
       "  </tbody>\n",
       "</table>\n",
       "</div>"
      ],
      "text/plain": [
       "   Class  Count\n",
       "0      0    254\n",
       "1      1    746"
      ]
     },
     "metadata": {},
     "output_type": "display_data"
    }
   ],
   "source": [
    "classes, counts = np.unique(yi_bin, return_counts=True)\n",
    "dfi_bi = pd.DataFrame({'Class': classes, 'Count': counts})\n",
    "display(dfi_bi)"
   ]
  },
  {
   "cell_type": "markdown",
   "id": "017d639c",
   "metadata": {},
   "source": [
    "Generating synthetic multi-class dataset. \\\n",
    "Setting n_classes = 3 and weights = [0.1, 0.2, 0.7]:\n",
    "- Class 0 will have 10% of the samples,\n",
    "- Class 1 will have 20% of the samples,\n",
    "- Class 2 will have 70% of the samples (the majority class)."
   ]
  },
  {
   "cell_type": "code",
   "execution_count": 15,
   "id": "1517d370",
   "metadata": {},
   "outputs": [],
   "source": [
    "Xi_multi, yi_multi = make_classification(\n",
    "    n_samples=1000,\n",
    "    n_features=10,\n",
    "    n_classes=3,\n",
    "    n_informative=5,\n",
    "    weights=[0.1, 0.2, 0.7],\n",
    "    random_state=42)\n",
    "Xi_train_multi, Xi_test_multi, yi_train_multi, yi_test_multi = train_test_split(Xi_multi, yi_multi, test_size=0.2, random_state=42)\n",
    "\n",
    "model_multi = RandomForestClassifier(random_state=42)\n",
    "model_multi.fit(Xi_train_multi, yi_train_multi)\n",
    "yi_pred_multi = model_multi.predict(Xi_test_multi)"
   ]
  },
  {
   "cell_type": "code",
   "execution_count": 16,
   "id": "0b0e4098",
   "metadata": {
    "scrolled": true
   },
   "outputs": [
    {
     "data": {
      "text/html": [
       "<div>\n",
       "<style scoped>\n",
       "    .dataframe tbody tr th:only-of-type {\n",
       "        vertical-align: middle;\n",
       "    }\n",
       "\n",
       "    .dataframe tbody tr th {\n",
       "        vertical-align: top;\n",
       "    }\n",
       "\n",
       "    .dataframe thead th {\n",
       "        text-align: right;\n",
       "    }\n",
       "</style>\n",
       "<table border=\"1\" class=\"dataframe\">\n",
       "  <thead>\n",
       "    <tr style=\"text-align: right;\">\n",
       "      <th></th>\n",
       "      <th>Class</th>\n",
       "      <th>Count</th>\n",
       "    </tr>\n",
       "  </thead>\n",
       "  <tbody>\n",
       "    <tr>\n",
       "      <th>0</th>\n",
       "      <td>0</td>\n",
       "      <td>100</td>\n",
       "    </tr>\n",
       "    <tr>\n",
       "      <th>1</th>\n",
       "      <td>1</td>\n",
       "      <td>201</td>\n",
       "    </tr>\n",
       "    <tr>\n",
       "      <th>2</th>\n",
       "      <td>2</td>\n",
       "      <td>699</td>\n",
       "    </tr>\n",
       "  </tbody>\n",
       "</table>\n",
       "</div>"
      ],
      "text/plain": [
       "   Class  Count\n",
       "0      0    100\n",
       "1      1    201\n",
       "2      2    699"
      ]
     },
     "metadata": {},
     "output_type": "display_data"
    }
   ],
   "source": [
    "classes, counts = np.unique(yi_multi, return_counts=True)\n",
    "dfi_multi = pd.DataFrame({'Class': classes, 'Count': counts})\n",
    "display(dfi_multi)"
   ]
  },
  {
   "cell_type": "markdown",
   "id": "41857f6b",
   "metadata": {},
   "source": [
    "#### Performance Analysis\n",
    "- Let us explore the synthetic data's confusion matrix. This hows the distribution of classes in both binary and multi-class datasets."
   ]
  },
  {
   "cell_type": "markdown",
   "id": "d371ffeb",
   "metadata": {},
   "source": [
    "Confusion matrix of binary dataset:"
   ]
  },
  {
   "cell_type": "code",
   "execution_count": 17,
   "id": "a4cdf428",
   "metadata": {},
   "outputs": [
    {
     "name": "stdout",
     "output_type": "stream",
     "text": [
      "True Positive:\t 140\n",
      "False Positive:\t 7\n",
      "True Negative:\t 39\n",
      "False Negative:\t 14\n"
     ]
    },
    {
     "data": {
      "image/png": "[encoded data removed]",
      "text/plain": [
       "<Figure size 432x288 with 2 Axes>"
      ]
     },
     "metadata": {
      "needs_background": "light"
     },
     "output_type": "display_data"
    }
   ],
   "source": [
    "# Generate the confusion matrix\n",
    "cm_bi = confusion_matrix(yi_test_bin, yi_pred_bin)\n",
    "disp = ConfusionMatrixDisplay(confusion_matrix=cm_bi, display_labels=model_bin.classes_)\n",
    "print(\"True Positive:\\t\", cm_bi[1][1])\n",
    "print(\"False Positive:\\t\", cm_bi[0][1])\n",
    "print(\"True Negative:\\t\", cm_bi[0][0])\n",
    "print(\"False Negative:\\t\", cm_bi[1][0])\n",
    "disp.plot(cmap=plt.cm.Blues)\n",
    "plt.title(\"Confusion Matrix\")\n",
    "plt.show()"
   ]
  },
  {
   "cell_type": "markdown",
   "id": "aeb37346",
   "metadata": {},
   "source": [
    "Confusion matrix of multi-class dataset:"
   ]
  },
  {
   "cell_type": "code",
   "execution_count": 18,
   "id": "448a636f",
   "metadata": {},
   "outputs": [
    {
     "data": {
      "image/png": "[encoded data removed]",
      "text/plain": [
       "<Figure size 432x288 with 2 Axes>"
      ]
     },
     "metadata": {
      "needs_background": "light"
     },
     "output_type": "display_data"
    }
   ],
   "source": [
    "# Generate the confusion matrix\n",
    "cm_multi = confusion_matrix(yi_test_multi, yi_pred_multi)\n",
    "disp = ConfusionMatrixDisplay(confusion_matrix=cm_multi, display_labels=model_multi.classes_)\n",
    "disp.plot(cmap=plt.cm.Blues)\n",
    "plt.title(\"Confusion Matrix\")\n",
    "plt.show()"
   ]
  },
  {
   "cell_type": "code",
   "execution_count": 19,
   "id": "63f7dbad",
   "metadata": {},
   "outputs": [
    {
     "name": "stdout",
     "output_type": "stream",
     "text": [
      "Method 1: Imbalance Ratio\n",
      "\n",
      "Class counts:\n",
      "1    746\n",
      "0    254\n",
      "Name: label, dtype: int64\n",
      "Majority class: 1, Minority class: 0\n",
      "Imbalance Ratio (IR): 2.94\n",
      "------------------------------\n",
      "Method 3: Class Imbalance Metrics\n",
      "\n",
      "Average Imbalance Ratio (IR): 1.97\n",
      "Normalized Shannon Entropy: 0.82\n",
      "Cohen's Kappa (majority class baseline): 0.00\n"
     ]
    }
   ],
   "source": [
    "dfi_bi = pd.DataFrame({'label': yi_bin})\n",
    "print('Method 1: Imbalance Ratio\\n')\n",
    "imbalance_ratio = calculate_imbalance_ratio(dfi_bi, 'label')\n",
    "print('-'*30)\n",
    "print('Method 3: Class Imbalance Metrics\\n')\n",
    "yi_majority_pred = np.full_like(yi_bin, fill_value=np.argmax(np.bincount(yi_bin)))\n",
    "avg_imbalance_ratio, normalized_entropy, kappa = measure_class_imbalance(yi_bin, yi_majority_pred)"
   ]
  },
  {
   "cell_type": "markdown",
   "id": "1e5b2e0b",
   "metadata": {},
   "source": [
    "<ins>Results</ins>\n",
    "\n",
    "1. Imbalance Ratio (IR): 2.94, meaning class 1 is almost 3 times more frequent than class 0, indicating a moderate imbalance.\n",
    "2. Average Imbalance Ratio: 1.97, confirming the imbalance where the minority class is roughly twice as underrepresented.\n",
    "3. Normalized Shannon Entropy: 0.82, suggesting moderate unpredictability in the class distribution.\n",
    "3. Cohen’s Kappa: 0.00, indicating no better agreement than random guessing when predicting the majority class.\n",
    "\n",
    "The dataset is imbalanced with class 1 being the majority. The results highlight the need for models that can handle such imbalance, as predicting the majority class alone offers no better performance than random guessing."
   ]
  },
  {
   "cell_type": "code",
   "execution_count": 20,
   "id": "24b06ea7",
   "metadata": {},
   "outputs": [
    {
     "name": "stdout",
     "output_type": "stream",
     "text": [
      "Method 2: Imbalance Ratio\n",
      "\n",
      "Class counts:\n",
      "2    699\n",
      "1    201\n",
      "0    100\n",
      "Name: label, dtype: int64\n",
      "\n",
      "Imbalance Ratios:\n",
      "2    1.00\n",
      "1    3.48\n",
      "0    6.99\n",
      "Name: label, dtype: float64\n",
      "\n",
      "Average Imbalance Ratio: 3.82\n",
      "------------------------------\n",
      "Method 3: Class Imbalance Metrics\n",
      "\n",
      "Average Imbalance Ratio (IR): 3.82\n",
      "Normalized Shannon Entropy: 0.73\n",
      "Cohen's Kappa (majority class baseline): 0.00\n"
     ]
    },
    {
     "data": {
      "text/plain": [
       "(3.8225373134328358, 0.7309840881314108, 0.0)"
      ]
     },
     "execution_count": 20,
     "metadata": {},
     "output_type": "execute_result"
    }
   ],
   "source": [
    "dfi_multi = pd.DataFrame({'label': yi_multi})\n",
    "print('Method 2: Imbalance Ratio\\n')\n",
    "calculate_multi_class_imbalance_ratio(dfi_multi, 'label')\n",
    "print('-'*30)\n",
    "print('Method 3: Class Imbalance Metrics\\n')\n",
    "majority_class = pd.Series(yi_multi).mode()[0]\n",
    "yi_majority_pred = np.full_like(yi_multi, fill_value=majority_class)\n",
    "measure_class_imbalance(yi_multi, yi_majority_pred)"
   ]
  },
  {
   "cell_type": "markdown",
   "id": "85cfab93",
   "metadata": {},
   "source": [
    "<ins>Results</ins>\n",
    "\n",
    "1. Imbalance Ratio (IR): Class 2 is the majority (1.00), class 1 is 3.48 times less frequent, and class 0 is 6.99 times less frequent.\n",
    "2. Average Imbalance Ratio: 3.82, confirming the strong imbalance.\n",
    "2. Normalized Shannon Entropy: 0.73, showing moderate class diversity.\n",
    "3. Cohen’s Kappa: 0.00, indicating no improvement over random guessing when predicting the majority class.\n",
    "\n",
    "The dataset is highly imbalanced, with class 2 dominating. The Kappa score of 0.00 suggests that predicting the majority class alone doesn’t provide useful predictions."
   ]
  },
  {
   "cell_type": "markdown",
   "id": "2b88c5d2",
   "metadata": {},
   "source": [
    "## Methods to Counter Class Imbalance in Datasets\n",
    "Class imbalance significantly impacts model performance, as models tend to prioritize the majority class and may overlook the minority class. We can balance the class distribution with resampling.\n",
    "\n",
    "1. <ins>Interpolating from minority class</ins>\n",
    "- Synthetic Minority Over-sampling Technique (SMOTE) generates synthetic samples for the minority class by interpolating between existing samples. SMOTE is effective but may introduce noise and overfitting of the minority class.\n",
    "2. <ins>Undersampling the Majority Class</ins>\n",
    "- Randomly removes samples from the majority class. This can prevent overfitting but may also discard useful information from the majority class.\n",
    "3. <ins>Tomek Links</ins>\n",
    "- Removes overlapping examples from the majority class that are near the minority class boundary, helping create a cleaner decision boundary.\n",
    "4. <ins>NearMiss</ins>\n",
    "- Selectively keeps majority class samples that are closest to the minority class to preserve useful information while reducing the class imbalance.\n",
    "\n",
    "#### Approach to counter class imbalance\n",
    "Method 1: SMOTE + Tomek Links\\\n",
    "Method 2: SMOTE + Edited Nearest Neighbors (ENN)\\\n",
    "SMOTE is combined with methods that clean up noisy samples, leading to a more balanced yet cleaner dataset."
   ]
  },
  {
   "cell_type": "code",
   "execution_count": 21,
   "id": "fb2a6898",
   "metadata": {},
   "outputs": [],
   "source": [
    "# SMOTE + Tomek Links pipeline\n",
    "smote_tomek_pipeline = Pipeline([\n",
    "    ('smote', SMOTE(random_state=42)),\n",
    "    ('tomek', TomekLinks())])\n",
    "\n",
    "# Apply SMOTE + Tomek Links to the training set\n",
    "X_resampled1, y_resampled1 = smote_tomek_pipeline.fit_resample(Xi_train_bin, yi_train_bin)\n",
    "model1 = RandomForestClassifier(random_state=42)\n",
    "model1.fit(X_resampled1, y_resampled1)\n",
    "y1 = model1.predict(Xi_test_bin)"
   ]
  },
  {
   "cell_type": "code",
   "execution_count": 22,
   "id": "ea2f48cd",
   "metadata": {},
   "outputs": [
    {
     "name": "stdout",
     "output_type": "stream",
     "text": [
      "Class count of training data before resampling:\n"
     ]
    },
    {
     "data": {
      "text/html": [
       "<div>\n",
       "<style scoped>\n",
       "    .dataframe tbody tr th:only-of-type {\n",
       "        vertical-align: middle;\n",
       "    }\n",
       "\n",
       "    .dataframe tbody tr th {\n",
       "        vertical-align: top;\n",
       "    }\n",
       "\n",
       "    .dataframe thead th {\n",
       "        text-align: right;\n",
       "    }\n",
       "</style>\n",
       "<table border=\"1\" class=\"dataframe\">\n",
       "  <thead>\n",
       "    <tr style=\"text-align: right;\">\n",
       "      <th></th>\n",
       "      <th>Class</th>\n",
       "      <th>Count</th>\n",
       "    </tr>\n",
       "  </thead>\n",
       "  <tbody>\n",
       "    <tr>\n",
       "      <th>0</th>\n",
       "      <td>0</td>\n",
       "      <td>208</td>\n",
       "    </tr>\n",
       "    <tr>\n",
       "      <th>1</th>\n",
       "      <td>1</td>\n",
       "      <td>592</td>\n",
       "    </tr>\n",
       "  </tbody>\n",
       "</table>\n",
       "</div>"
      ],
      "text/plain": [
       "   Class  Count\n",
       "0      0    208\n",
       "1      1    592"
      ]
     },
     "metadata": {},
     "output_type": "display_data"
    }
   ],
   "source": [
    "classes, counts = np.unique(yi_train_bin, return_counts=True)\n",
    "print(\"Class count of training data before resampling:\")\n",
    "dfi_bi = pd.DataFrame({'Class': classes, 'Count': counts})\n",
    "display(dfi_bi)"
   ]
  },
  {
   "cell_type": "code",
   "execution_count": 23,
   "id": "6fcfa168",
   "metadata": {
    "scrolled": true
   },
   "outputs": [
    {
     "name": "stdout",
     "output_type": "stream",
     "text": [
      "Class count of training data after resampling via Tomek Links:\n"
     ]
    },
    {
     "data": {
      "text/html": [
       "<div>\n",
       "<style scoped>\n",
       "    .dataframe tbody tr th:only-of-type {\n",
       "        vertical-align: middle;\n",
       "    }\n",
       "\n",
       "    .dataframe tbody tr th {\n",
       "        vertical-align: top;\n",
       "    }\n",
       "\n",
       "    .dataframe thead th {\n",
       "        text-align: right;\n",
       "    }\n",
       "</style>\n",
       "<table border=\"1\" class=\"dataframe\">\n",
       "  <thead>\n",
       "    <tr style=\"text-align: right;\">\n",
       "      <th></th>\n",
       "      <th>Class</th>\n",
       "      <th>Count</th>\n",
       "    </tr>\n",
       "  </thead>\n",
       "  <tbody>\n",
       "    <tr>\n",
       "      <th>0</th>\n",
       "      <td>0</td>\n",
       "      <td>592</td>\n",
       "    </tr>\n",
       "    <tr>\n",
       "      <th>1</th>\n",
       "      <td>1</td>\n",
       "      <td>588</td>\n",
       "    </tr>\n",
       "  </tbody>\n",
       "</table>\n",
       "</div>"
      ],
      "text/plain": [
       "   Class  Count\n",
       "0      0    592\n",
       "1      1    588"
      ]
     },
     "metadata": {},
     "output_type": "display_data"
    }
   ],
   "source": [
    "classes, counts = np.unique(y_resampled1, return_counts=True)\n",
    "df_bi = pd.DataFrame({'Class': classes, 'Count': counts})\n",
    "print(\"Class count of training data after resampling via Tomek Links:\")\n",
    "display(df_bi)"
   ]
  },
  {
   "cell_type": "code",
   "execution_count": 24,
   "id": "e797435b",
   "metadata": {},
   "outputs": [
    {
     "name": "stdout",
     "output_type": "stream",
     "text": [
      "Class imbalance results for resampled data via Tomek Links: \n",
      "\n",
      "Method 1: Imbalance Ratio\n",
      "\n",
      "Class counts:\n",
      "0    592\n",
      "1    588\n",
      "Name: label, dtype: int64\n",
      "Majority class: 0, Minority class: 1\n",
      "Imbalance Ratio (IR): 1.01\n",
      "------------------------------\n",
      "Method 3: Class Imbalance Metrics\n",
      "\n",
      "Average Imbalance Ratio (IR): 1.00\n",
      "Normalized Shannon Entropy: 1.00\n",
      "Cohen's Kappa (majority class baseline): 0.00\n"
     ]
    }
   ],
   "source": [
    "df1 = pd.DataFrame({'label': y_resampled1})\n",
    "print(\"Class imbalance results for resampled data via Tomek Links: \\n\")\n",
    "print('Method 1: Imbalance Ratio\\n')\n",
    "imbalance_ratio = calculate_imbalance_ratio(df1, 'label')\n",
    "print('-'*30)\n",
    "print('Method 3: Class Imbalance Metrics\\n')\n",
    "y1_majority_pred = np.full_like(y_resampled1, fill_value=np.argmax(np.bincount(y_resampled1)))\n",
    "avg_imbalance_ratio, normalized_entropy, kappa = measure_class_imbalance(y_resampled1, y1_majority_pred)"
   ]
  },
  {
   "cell_type": "markdown",
   "id": "9002be5c",
   "metadata": {},
   "source": [
    "<ins>Results</ins>\n",
    "\n",
    "1. Imbalance Ratio (IR): The imbalance ratio of 1.01 indicates almost perfect balance between the majority and minority classes, meaning the classes are nearly equal in size.\n",
    "2. Average Imbalance Ratio: 1.00 confirms that the dataset is effectively balanced after Tomek Links resampling.\n",
    "2. Normalized Shannon Entropy: 1.00 suggests maximum uncertainty in the class distribution, meaning the dataset is highly balanced with equal class representation.\n",
    "3. Cohen’s Kappa: 0.00 indicates that predicting the majority class alone yields no better performance than random guessing, which might imply that the model is struggling to find patterns beyond the class distribution.\n",
    "\n",
    "The dataset is nearly balanced (IR ~ 1.01), and the class distribution is highly uniform. However, the Cohen's Kappa of 0.00 suggests that the model is not making meaningful predictions, possibly due to inadequate learning or a lack of discriminative features. Class imbalance is corrected with resampling via Tomek Links."
   ]
  },
  {
   "cell_type": "code",
   "execution_count": 25,
   "id": "bae2357a",
   "metadata": {},
   "outputs": [],
   "source": [
    "# SMOTE + ENN pipeline\n",
    "smote_enn_pipeline = Pipeline([\n",
    "    ('smote', SMOTE(random_state=42)),\n",
    "    ('enn', EditedNearestNeighbours())\n",
    "])\n",
    "\n",
    "# Apply SMOTE + ENN to the training set\n",
    "X_resampled2, y_resampled2 = smote_enn_pipeline.fit_resample(Xi_train_bin, yi_train_bin)\n",
    "model2 = RandomForestClassifier(random_state=42)\n",
    "model2.fit(X_resampled2, y_resampled2)\n",
    "y2 = model2.predict(Xi_test_bin)"
   ]
  },
  {
   "cell_type": "code",
   "execution_count": 26,
   "id": "27dda270",
   "metadata": {},
   "outputs": [
    {
     "name": "stdout",
     "output_type": "stream",
     "text": [
      "Class count after resampling via ENN:\n"
     ]
    },
    {
     "data": {
      "text/html": [
       "<div>\n",
       "<style scoped>\n",
       "    .dataframe tbody tr th:only-of-type {\n",
       "        vertical-align: middle;\n",
       "    }\n",
       "\n",
       "    .dataframe tbody tr th {\n",
       "        vertical-align: top;\n",
       "    }\n",
       "\n",
       "    .dataframe thead th {\n",
       "        text-align: right;\n",
       "    }\n",
       "</style>\n",
       "<table border=\"1\" class=\"dataframe\">\n",
       "  <thead>\n",
       "    <tr style=\"text-align: right;\">\n",
       "      <th></th>\n",
       "      <th>Class</th>\n",
       "      <th>Count</th>\n",
       "    </tr>\n",
       "  </thead>\n",
       "  <tbody>\n",
       "    <tr>\n",
       "      <th>0</th>\n",
       "      <td>0</td>\n",
       "      <td>592</td>\n",
       "    </tr>\n",
       "    <tr>\n",
       "      <th>1</th>\n",
       "      <td>1</td>\n",
       "      <td>438</td>\n",
       "    </tr>\n",
       "  </tbody>\n",
       "</table>\n",
       "</div>"
      ],
      "text/plain": [
       "   Class  Count\n",
       "0      0    592\n",
       "1      1    438"
      ]
     },
     "metadata": {},
     "output_type": "display_data"
    }
   ],
   "source": [
    "classes, counts = np.unique(y_resampled2, return_counts=True)\n",
    "dfi_multi = pd.DataFrame({'Class': classes, 'Count': counts})\n",
    "print(\"Class count after resampling via ENN:\")\n",
    "display(dfi_multi)"
   ]
  },
  {
   "cell_type": "code",
   "execution_count": 27,
   "id": "a5226cab",
   "metadata": {},
   "outputs": [
    {
     "name": "stdout",
     "output_type": "stream",
     "text": [
      "Class imbalance results for resampled data via ENN: \n",
      "\n",
      "Method 1: Imbalance Ratio\n",
      "\n",
      "Class counts:\n",
      "0    592\n",
      "1    438\n",
      "Name: label, dtype: int64\n",
      "Majority class: 0, Minority class: 1\n",
      "Imbalance Ratio (IR): 1.35\n",
      "------------------------------\n",
      "Method 3: Class Imbalance Metrics\n",
      "\n",
      "Average Imbalance Ratio (IR): 1.18\n",
      "Normalized Shannon Entropy: 0.98\n",
      "Cohen's Kappa (majority class baseline): 0.00\n"
     ]
    }
   ],
   "source": [
    "df2 = pd.DataFrame({'label': y_resampled2})\n",
    "print(\"Class imbalance results for resampled data via ENN: \\n\")\n",
    "print('Method 1: Imbalance Ratio\\n')\n",
    "imbalance_ratio = calculate_imbalance_ratio(df2, 'label')\n",
    "print('-'*30)\n",
    "print('Method 3: Class Imbalance Metrics\\n')\n",
    "y2_majority_pred = np.full_like(y_resampled2, fill_value=np.argmax(np.bincount(y_resampled2)))\n",
    "avg_imbalance_ratio, normalized_entropy, kappa = measure_class_imbalance(y_resampled2, y2_majority_pred)"
   ]
  },
  {
   "cell_type": "markdown",
   "id": "04eb8941",
   "metadata": {},
   "source": [
    "<ins>Results</ins>\n",
    "\n",
    "1. Imbalance Ratio (IR): The imbalance ratio of 1.35 suggests a moderate imbalance, with the majority class being 1.35 times more frequent than the minority class.\n",
    "2. Average Imbalance Ratio: 1.18 confirms the moderate imbalance in the dataset.\n",
    "2. Normalized Shannon Entropy: 0.98 indicates that the class distribution is somewhat unpredictable but not highly skewed. The closer to 1, the more balanced the dataset is, so this suggests relatively high entropy.\n",
    "3. Cohen’s Kappa: 0.00 shows that predicting the majority class alone does not perform better than random guessing.\n",
    "\n",
    "The dataset is moderately imbalanced (IR ~ 1.35). Class imbalance is reduced after resampling with ENN, though less effective than via Tomek Links."
   ]
  },
  {
   "cell_type": "code",
   "execution_count": 28,
   "id": "a549934d",
   "metadata": {},
   "outputs": [],
   "source": [
    "# Apply SMOTE + Tomek Links to the training set\n",
    "X_resampled3, y_resampled3 = smote_tomek_pipeline.fit_resample(Xi_train_multi, yi_train_multi)\n",
    "model3 = RandomForestClassifier(random_state=42)\n",
    "model3.fit(X_resampled3, y_resampled3)\n",
    "y3 = model3.predict(Xi_test_multi)"
   ]
  },
  {
   "cell_type": "code",
   "execution_count": 29,
   "id": "32bed043",
   "metadata": {},
   "outputs": [
    {
     "name": "stdout",
     "output_type": "stream",
     "text": [
      "Class count of training data before resampling:\n"
     ]
    },
    {
     "data": {
      "text/html": [
       "<div>\n",
       "<style scoped>\n",
       "    .dataframe tbody tr th:only-of-type {\n",
       "        vertical-align: middle;\n",
       "    }\n",
       "\n",
       "    .dataframe tbody tr th {\n",
       "        vertical-align: top;\n",
       "    }\n",
       "\n",
       "    .dataframe thead th {\n",
       "        text-align: right;\n",
       "    }\n",
       "</style>\n",
       "<table border=\"1\" class=\"dataframe\">\n",
       "  <thead>\n",
       "    <tr style=\"text-align: right;\">\n",
       "      <th></th>\n",
       "      <th>Class</th>\n",
       "      <th>Count</th>\n",
       "    </tr>\n",
       "  </thead>\n",
       "  <tbody>\n",
       "    <tr>\n",
       "      <th>0</th>\n",
       "      <td>0</td>\n",
       "      <td>83</td>\n",
       "    </tr>\n",
       "    <tr>\n",
       "      <th>1</th>\n",
       "      <td>1</td>\n",
       "      <td>166</td>\n",
       "    </tr>\n",
       "    <tr>\n",
       "      <th>2</th>\n",
       "      <td>2</td>\n",
       "      <td>551</td>\n",
       "    </tr>\n",
       "  </tbody>\n",
       "</table>\n",
       "</div>"
      ],
      "text/plain": [
       "   Class  Count\n",
       "0      0     83\n",
       "1      1    166\n",
       "2      2    551"
      ]
     },
     "metadata": {},
     "output_type": "display_data"
    }
   ],
   "source": [
    "classes, counts = np.unique(yi_train_multi, return_counts=True)\n",
    "print(\"Class count of training data before resampling:\")\n",
    "dfi_multi = pd.DataFrame({'Class': classes, 'Count': counts})\n",
    "display(dfi_multi)"
   ]
  },
  {
   "cell_type": "code",
   "execution_count": 30,
   "id": "3558f50a",
   "metadata": {
    "scrolled": true
   },
   "outputs": [
    {
     "name": "stdout",
     "output_type": "stream",
     "text": [
      "Class count of training data after resampling via Tomek Links:\n"
     ]
    },
    {
     "data": {
      "text/html": [
       "<div>\n",
       "<style scoped>\n",
       "    .dataframe tbody tr th:only-of-type {\n",
       "        vertical-align: middle;\n",
       "    }\n",
       "\n",
       "    .dataframe tbody tr th {\n",
       "        vertical-align: top;\n",
       "    }\n",
       "\n",
       "    .dataframe thead th {\n",
       "        text-align: right;\n",
       "    }\n",
       "</style>\n",
       "<table border=\"1\" class=\"dataframe\">\n",
       "  <thead>\n",
       "    <tr style=\"text-align: right;\">\n",
       "      <th></th>\n",
       "      <th>Class</th>\n",
       "      <th>Count</th>\n",
       "    </tr>\n",
       "  </thead>\n",
       "  <tbody>\n",
       "    <tr>\n",
       "      <th>0</th>\n",
       "      <td>0</td>\n",
       "      <td>551</td>\n",
       "    </tr>\n",
       "    <tr>\n",
       "      <th>1</th>\n",
       "      <td>1</td>\n",
       "      <td>548</td>\n",
       "    </tr>\n",
       "    <tr>\n",
       "      <th>2</th>\n",
       "      <td>2</td>\n",
       "      <td>545</td>\n",
       "    </tr>\n",
       "  </tbody>\n",
       "</table>\n",
       "</div>"
      ],
      "text/plain": [
       "   Class  Count\n",
       "0      0    551\n",
       "1      1    548\n",
       "2      2    545"
      ]
     },
     "metadata": {},
     "output_type": "display_data"
    }
   ],
   "source": [
    "classes, counts = np.unique(y_resampled3, return_counts=True)\n",
    "df_multi = pd.DataFrame({'Class': classes, 'Count': counts})\n",
    "print(\"Class count of training data after resampling via Tomek Links:\")\n",
    "display(df_multi)"
   ]
  },
  {
   "cell_type": "code",
   "execution_count": 31,
   "id": "9973ef8a",
   "metadata": {},
   "outputs": [
    {
     "name": "stdout",
     "output_type": "stream",
     "text": [
      "Class imbalance results for resampled data via Tomek Links: \n",
      "\n",
      "Method 2: Imbalance Ratio\n",
      "\n",
      "Class counts:\n",
      "0    551\n",
      "1    548\n",
      "2    545\n",
      "Name: label, dtype: int64\n",
      "\n",
      "Imbalance Ratios:\n",
      "0    1.00\n",
      "1    1.01\n",
      "2    1.01\n",
      "Name: label, dtype: float64\n",
      "\n",
      "Average Imbalance Ratio: 1.01\n",
      "------------------------------\n",
      "Method 3: Class Imbalance Metrics\n",
      "\n",
      "Average Imbalance Ratio (IR): 1.01\n",
      "Normalized Shannon Entropy: 1.00\n",
      "Cohen's Kappa (majority class baseline): 0.00\n"
     ]
    }
   ],
   "source": [
    "df3 = pd.DataFrame({'label': y_resampled3})\n",
    "print(\"Class imbalance results for resampled data via Tomek Links: \\n\")\n",
    "print('Method 2: Imbalance Ratio\\n')\n",
    "imbalance_ratio = calculate_multi_class_imbalance_ratio(df3, 'label')\n",
    "print('-'*30)\n",
    "print('Method 3: Class Imbalance Metrics\\n')\n",
    "y3_majority_pred = np.full_like(y_resampled3, fill_value=np.argmax(np.bincount(y_resampled3)))\n",
    "avg_imbalance_ratio, normalized_entropy, kappa = measure_class_imbalance(y_resampled3, y3_majority_pred)"
   ]
  },
  {
   "cell_type": "markdown",
   "id": "d5a38c51",
   "metadata": {},
   "source": [
    "<ins>Results</ins>\n",
    "\n",
    "1. Imbalance Ratio (IR): The imbalance ratios for each class are very close to 1.00 (1.00 for class 0, 1.01 for class 1 and 2), indicating that all three classes are almost perfectly balanced.\n",
    "2. Average Imbalance Ratio: The average imbalance ratio of 1.01 confirms that the classes are almost perfectly balanced, with minimal difference between them.\n",
    "2. Normalized Shannon Entropy: A value of 1.00 suggests maximum entropy, which means the dataset is well-balanced and there is no dominant class.\n",
    "3. Cohen’s Kappa: 0.00 shows that predicting the majority class alone does not perform better than random guessing.\n",
    "\n",
    "The dataset is nearly perfectly balanced across all three classes (IR ~ 1.01). However, the Cohen's Kappa of 0.00 suggests that the model is not providing useful predictions, possibly because the model is overfitting to the balanced distribution or not capturing the underlying patterns in the data."
   ]
  },
  {
   "cell_type": "code",
   "execution_count": 32,
   "id": "29ab417d",
   "metadata": {},
   "outputs": [],
   "source": [
    "# Apply SMOTE + ENN to the training set\n",
    "X_resampled4, y_resampled4 = smote_enn_pipeline.fit_resample(Xi_train_multi, yi_train_multi)\n",
    "model4 = RandomForestClassifier(random_state=42)\n",
    "model4.fit(X_resampled4, y_resampled4)\n",
    "y4 = model4.predict(Xi_test_multi)"
   ]
  },
  {
   "cell_type": "code",
   "execution_count": 33,
   "id": "42b63abb",
   "metadata": {},
   "outputs": [
    {
     "name": "stdout",
     "output_type": "stream",
     "text": [
      "Class count of training data after resampling via ENN: \n"
     ]
    },
    {
     "data": {
      "text/html": [
       "<div>\n",
       "<style scoped>\n",
       "    .dataframe tbody tr th:only-of-type {\n",
       "        vertical-align: middle;\n",
       "    }\n",
       "\n",
       "    .dataframe tbody tr th {\n",
       "        vertical-align: top;\n",
       "    }\n",
       "\n",
       "    .dataframe thead th {\n",
       "        text-align: right;\n",
       "    }\n",
       "</style>\n",
       "<table border=\"1\" class=\"dataframe\">\n",
       "  <thead>\n",
       "    <tr style=\"text-align: right;\">\n",
       "      <th></th>\n",
       "      <th>Class</th>\n",
       "      <th>Count</th>\n",
       "    </tr>\n",
       "  </thead>\n",
       "  <tbody>\n",
       "    <tr>\n",
       "      <th>0</th>\n",
       "      <td>0</td>\n",
       "      <td>551</td>\n",
       "    </tr>\n",
       "    <tr>\n",
       "      <th>1</th>\n",
       "      <td>1</td>\n",
       "      <td>515</td>\n",
       "    </tr>\n",
       "    <tr>\n",
       "      <th>2</th>\n",
       "      <td>2</td>\n",
       "      <td>378</td>\n",
       "    </tr>\n",
       "  </tbody>\n",
       "</table>\n",
       "</div>"
      ],
      "text/plain": [
       "   Class  Count\n",
       "0      0    551\n",
       "1      1    515\n",
       "2      2    378"
      ]
     },
     "metadata": {},
     "output_type": "display_data"
    }
   ],
   "source": [
    "classes, counts = np.unique(y_resampled4, return_counts=True)\n",
    "df_multi = pd.DataFrame({'Class': classes, 'Count': counts})\n",
    "print(\"Class count of training data after resampling via ENN: \")\n",
    "display(df_multi)"
   ]
  },
  {
   "cell_type": "code",
   "execution_count": 34,
   "id": "a6f46a0b",
   "metadata": {},
   "outputs": [
    {
     "name": "stdout",
     "output_type": "stream",
     "text": [
      "Class imbalance results for resampled data via ENN: \n",
      "\n",
      "Method 2: Imbalance Ratio\n",
      "\n",
      "Class counts:\n",
      "0    551\n",
      "1    515\n",
      "2    378\n",
      "Name: label, dtype: int64\n",
      "\n",
      "Imbalance Ratios:\n",
      "0    1.00\n",
      "1    1.07\n",
      "2    1.46\n",
      "Name: label, dtype: float64\n",
      "\n",
      "Average Imbalance Ratio: 1.18\n",
      "------------------------------\n",
      "Method 3: Class Imbalance Metrics\n",
      "\n",
      "Average Imbalance Ratio (IR): 1.18\n",
      "Normalized Shannon Entropy: 0.99\n",
      "Cohen's Kappa (majority class baseline): 0.00\n"
     ]
    }
   ],
   "source": [
    "df4 = pd.DataFrame({'label': y_resampled4})\n",
    "print(\"Class imbalance results for resampled data via ENN: \\n\")\n",
    "print('Method 2: Imbalance Ratio\\n')\n",
    "imbalance_ratio = calculate_multi_class_imbalance_ratio(df4, 'label')\n",
    "print('-'*30)\n",
    "print('Method 3: Class Imbalance Metrics\\n')\n",
    "y4_majority_pred = np.full_like(y_resampled4, fill_value=np.argmax(np.bincount(y_resampled4)))\n",
    "avg_imbalance_ratio, normalized_entropy, kappa = measure_class_imbalance(y_resampled4, y4_majority_pred)"
   ]
  },
  {
   "cell_type": "markdown",
   "id": "673722c2",
   "metadata": {},
   "source": [
    "<ins>Results</ins>\n",
    "\n",
    "1. Imbalance Ratio (IR): Class 0 has an imbalance ratio of 1.00 (reference class). Class 1 has a ratio of 1.07, indicating a mild imbalance with respect to class 0. Class 2 has a ratio of 1.46, showing the largest imbalance compared to class 0, but still moderate overall.\n",
    "2. Average Imbalance Ratio: The average imbalance ratio of 1.18 suggests a moderate imbalance across all classes.\n",
    "2. Normalized Shannon Entropy: The value of 0.99 is close to 1, indicating a highly balanced class distribution with minimal dominance from any single class.\n",
    "3. Cohen’s Kappa: 0.00 shows that predicting the majority class alone does not perform better than random guessing. The model is not capturing meaningful patterns in the data or is relying on simple heuristics like class frequencies.\n",
    "\n",
    "After applying ENN, the dataset is more balanced, with a moderate imbalance (IR ~ 1.18). The model, however, seems to be underperforming, as indicated by the Cohen's Kappa score of 0.00, suggesting that it isn't learning useful patterns beyond the class distribution. The slight imbalance in class 2 still might be influencing model performance.\n",
    "\n",
    "#### Conclusion on methods to counter class imbalance\n",
    "Resampling via SMOTE + Tomek Links has proven to be more effective in correcting class imbalance for both binary and multi-class datasets, as compared to ENN. However, low Cohen's Kappa score suggests that overfitting or underfitting may exist in the resampled prediction data."
   ]
  }
 ],
 "metadata": {
  "kernelspec": {
   "display_name": "Python [conda env:base] *",
   "language": "python",
   "name": "conda-base-py"
  },
  "language_info": {
   "codemirror_mode": {
    "name": "ipython",
    "version": 3
   },
   "file_extension": ".py",
   "mimetype": "text/x-python",
   "name": "python",
   "nbconvert_exporter": "python",
   "pygments_lexer": "ipython3",
   "version": "3.12.7"
  }
 },
 "nbformat": 4,
 "nbformat_minor": 5
}
