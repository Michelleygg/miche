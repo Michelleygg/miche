{
 "cells": [
  {
   "cell_type": "code",
   "execution_count": 7,
   "id": "3f869ed2-bb46-400b-8ab2-726da8693a2a",
   "metadata": {},
   "outputs": [
    {
     "name": "stdout",
     "output_type": "stream",
     "text": [
      "Ridge Mean CV R²: 0.3763\n",
      "Lasso Mean CV R²: 0.4976\n",
      "ElasticNet Mean CV R²: 0.4976\n",
      "\n",
      "Training final model: Lasso\n",
      "Predictions saved to A0000000A.csv\n"
     ]
    }
   ],
   "source": [
    "import pandas as pd\n",
    "import numpy as np\n",
    "from sklearn.model_selection import cross_val_score\n",
    "from sklearn.linear_model import RidgeCV, LassoCV, ElasticNetCV\n",
    "from sklearn.preprocessing import StandardScaler\n",
    "from sklearn.pipeline import Pipeline\n",
    "from sklearn.impute import SimpleImputer\n",
    "from sklearn.exceptions import ConvergenceWarning\n",
    "import warnings\n",
    "\n",
    "# === Load Data ===\n",
    "train_df = pd.read_csv(\"train-xy.csv\")\n",
    "test_df = pd.read_csv(\"test-x.csv\")\n",
    "\n",
    "X_train = train_df.iloc[:, 1:].values\n",
    "y_train = train_df.iloc[:, 0].values\n",
    "X_test = test_df.values\n",
    "\n",
    "# === Silence convergence warnings ===\n",
    "warnings.filterwarnings(\"ignore\", category=ConvergenceWarning)\n",
    "\n",
    "# === Standard pipeline: impute → scale → model ===\n",
    "def make_pipeline(model):\n",
    "    return Pipeline([\n",
    "        ('imputer', SimpleImputer(strategy='mean')),  # handles NaNs\n",
    "        ('scaler', StandardScaler()),\n",
    "        ('model', model)\n",
    "    ])\n",
    "\n",
    "# === Regression models ===\n",
    "models = {\n",
    "    \"Ridge\": RidgeCV(alphas=np.logspace(-3, 3, 10), cv=5),\n",
    "    \"Lasso\": LassoCV(alphas=np.logspace(-3, 1, 30), cv=5, max_iter=50000, n_jobs=-1),\n",
    "    \"ElasticNet\": ElasticNetCV(\n",
    "        l1_ratio=[0.1, 0.5, 0.9, 0.95, 1],\n",
    "        alphas=np.logspace(-3, 1, 30),\n",
    "        cv=5,\n",
    "        max_iter=50000,\n",
    "        n_jobs=-1\n",
    "    )\n",
    "}\n",
    "\n",
    "# === Fit and evaluate ===\n",
    "best_score = -np.inf\n",
    "best_model = None\n",
    "\n",
    "for name, model in models.items():\n",
    "    try:\n",
    "        pipeline = make_pipeline(model)\n",
    "        scores = cross_val_score(pipeline, X_train, y_train, cv=5, scoring='r2')\n",
    "        mean_score = scores.mean()\n",
    "        print(f\"{name} Mean CV R²: {mean_score:.4f}\")\n",
    "        \n",
    "        if mean_score > best_score:\n",
    "            best_score = mean_score\n",
    "            best_model = pipeline\n",
    "            best_model_name = name\n",
    "    except Exception as e:\n",
    "        print(f\"{name} failed: {e}\")\n",
    "\n",
    "# === Final model prediction ===\n",
    "if best_model:\n",
    "    print(f\"\\nTraining final model: {best_model_name}\")\n",
    "    best_model.fit(X_train, y_train)\n",
    "    predictions = best_model.predict(X_test)\n",
    "\n",
    "    # Save predictions\n",
    "    student_id = \"A0000000A\"  # Change to your real student number\n",
    "    output = pd.DataFrame({\"Y\": predictions})\n",
    "    output.to_csv(f\"{student_id}.csv\", index=False)\n",
    "    print(f\"Predictions saved to {student_id}.csv\")\n",
    "else:\n",
    "    print(\"All models failed again. Let’s troubleshoot further.\")"
   ]
  },
  {
   "cell_type": "code",
   "execution_count": 14,
   "id": "31a0e88a-02b7-4de3-aa08-74d7c7c76beb",
   "metadata": {},
   "outputs": [
    {
     "name": "stdout",
     "output_type": "stream",
     "text": [
      "✅ Your file format is correct!\n"
     ]
    }
   ],
   "source": [
    "import pandas as pd\n",
    "\n",
    "pred_df = pd.read_csv(\"A0000000A.csv\")  # Replace with your actual file name\n",
    "\n",
    "assert pred_df.shape == (10000, 1), \"Prediction file should have 10,000 rows and 1 column\"\n",
    "assert pred_df.columns[0] == \"Y\", \"Column name must be 'Y'\"\n",
    "assert not pred_df.isnull().values.any(), \"There should be no missing values\"\n",
    "\n",
    "print(\"✅ Your file format is correct!\")"
   ]
  },
  {
   "cell_type": "code",
   "execution_count": null,
   "id": "b1316535-02a7-4157-974f-0268272ccd2a",
   "metadata": {},
   "outputs": [],
   "source": []
  }
 ],
 "metadata": {
  "kernelspec": {
   "display_name": "Python [conda env:base] *",
   "language": "python",
   "name": "conda-base-py"
  },
  "language_info": {
   "codemirror_mode": {
    "name": "ipython",
    "version": 3
   },
   "file_extension": ".py",
   "mimetype": "text/x-python",
   "name": "python",
   "nbconvert_exporter": "python",
   "pygments_lexer": "ipython3",
   "version": "3.12.7"
  }
 },
 "nbformat": 4,
 "nbformat_minor": 5
}
